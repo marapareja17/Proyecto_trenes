{
 "cells": [
  {
   "attachments": {},
   "cell_type": "markdown",
   "metadata": {},
   "source": [
    "# Práctica sobre algoritmos genéticos"
   ]
  },
  {
   "attachments": {},
   "cell_type": "markdown",
   "metadata": {},
   "source": [
    "Un área ferroviaria de carga/descarga con una única vía de entrada y otra salida se compone de tres muelles de carga/descarga: Op1, Op2 y Op3, correspondientes a contenedores, carbón y gas. Por tanto, cada tren que llega se dirige a un muelle en función de su carga. Un \n",
    "tren tarda en cargar o descargar un tiempo proporcional al número de vagones que arrastra. Cada día llegan secuencialmente n trenes. Si los trenes son de cargas distintas, pueden entrar en paralelo a los muelles. Cuando dos trenes con el mismo tipo de carga se encuentran seguidos, el segundo debe esperar por el primero, así como todos los demás que se encuentren por detrás."
   ]
  },
  {
   "cell_type": "code",
   "execution_count": 1,
   "metadata": {},
   "outputs": [],
   "source": [
    "import random\n",
    "import numpy as np\n",
    "from deap import base, creator, tools, algorithms\n",
    "import matplotlib.pyplot as plt"
   ]
  },
  {
   "cell_type": "code",
   "execution_count": 2,
   "metadata": {},
   "outputs": [],
   "source": [
    "class Train:\n",
    "    def __init__(self, wagons, op, licence_plate):\n",
    "        self.wagons = wagons\n",
    "        self.op = op\n",
    "        self.licence_plate = licence_plate\n",
    "\n",
    "    def __str__(self):\n",
    "        return \"Número de vagones:\" + str(self.wagons) \\\n",
    "        + \"\\n\" + \"Muelle de operaciones:\" + str(self.op) \\\n",
    "        + \"\\n\" + \"Matrícula:\" + str(self.licence_plate)\n",
    "\n",
    "\n",
    "def random_trains_generation(n):\n",
    "\n",
    "    train_list = []\n",
    "\n",
    "    \n",
    "    for i in range(n):\n",
    "        wagons = random.randint(10, 30)  # Cada tren puede arrastrar entre 10 y 30 vagones\n",
    "        op = random.choice([\"op1\", \"op2\", \"op3\"])  # A cada tren se le asigna un tipo de carga\n",
    "        train_list.append(Train(wagons, op, i))\n",
    "\n",
    "    return train_list\n"
   ]
  },
  {
   "cell_type": "code",
   "execution_count": 3,
   "metadata": {},
   "outputs": [],
   "source": [
    "trenes = random_trains_generation(25)"
   ]
  },
  {
   "attachments": {},
   "cell_type": "markdown",
   "metadata": {},
   "source": [
    "### Función de Fitness"
   ]
  },
  {
   "cell_type": "code",
   "execution_count": 4,
   "metadata": {},
   "outputs": [],
   "source": [
    "def fitness_function(individual):\n",
    "\n",
    "    tiempo_actual = {\"op1\": 0, \"op2\": 0, \"op3\": 0}\n",
    "    tiempo_total = 0\n",
    "\n",
    "    for pos in individual:\n",
    "        tren = trenes[pos]\n",
    "\n",
    "        #Ejecucuçión en paralelo\n",
    "        if tiempo_actual[tren.op] == 0:\n",
    "            tiempo_actual[tren.op] = tren.wagons\n",
    "        \n",
    "        #Ejecución en serie\n",
    "        else:\n",
    "\n",
    "            #Tiempo de espera del vagón de su tipo anterior\n",
    "            tiempo_espera = tiempo_actual[tren.op]\n",
    "\n",
    "            #Modificar los tiempos de espera de todos los tipos de vagones\n",
    "            for tipo, tiempo in tiempo_actual.items():\n",
    "                tiempo -= tiempo_espera\n",
    "\n",
    "                #Si el tiempo es negativo, se pone a 0\n",
    "                if tiempo < 0:\n",
    "                    tiempo = 0\n",
    "                \n",
    "                #Modificar el tiempo de espera del tipo de vagón\n",
    "                tiempo_actual[tipo] = tiempo\n",
    "\n",
    "            tiempo_total += tiempo_espera\n",
    "            tiempo_actual[tren.op] = tren.wagons\n",
    "    \n",
    "    #suma máximo de los tiempos restantes al acabar la lista de trenes\n",
    "    tiempo_total += max(tiempo_actual.values())\n",
    "\n",
    "    return tiempo_total,"
   ]
  },
  {
   "attachments": {},
   "cell_type": "markdown",
   "metadata": {},
   "source": [
    "### Mutación"
   ]
  },
  {
   "cell_type": "code",
   "execution_count": 5,
   "metadata": {},
   "outputs": [],
   "source": [
    "def mutate(individual):\n",
    "    \n",
    "    pos = random.randint(0, len(individual)-1)\n",
    "    pos2 = random.randint(0, len(individual)-1)\n",
    "\n",
    "    while pos == pos2:\n",
    "        pos2 = random.randint(0, len(individual)-1)\n",
    "\n",
    "    individual[pos], individual[pos2] = individual[pos2], individual[pos]\n",
    "\n",
    "    return individual,\n"
   ]
  },
  {
   "attachments": {},
   "cell_type": "markdown",
   "metadata": {},
   "source": [
    "### Cruce"
   ]
  },
  {
   "cell_type": "code",
   "execution_count": 6,
   "metadata": {},
   "outputs": [],
   "source": [
    "def mate(train1, train2):\n",
    "    \n",
    "    corte = random.randint(0, len(train1)-1)\n",
    "    \n",
    "    train_inic, train_fin = train1[:corte], train1[corte:]\n",
    "    train_inic2, train_fin2 = train2[:corte], train2[corte:]\n",
    "\n",
    "\n",
    "    distintos_1 = set(train1) - (set(train_inic) | set(train_fin2))\n",
    "    \n",
    "    train_fin_new = []\n",
    "    for train in train_fin2:\n",
    "        if train not in train_inic:\n",
    "            train_fin_new.append(train)\n",
    "        else:\n",
    "            train_fin_new.append(distintos_1.pop())\n",
    "    \n",
    "    distintos_2 = set(train2) - (set(train_inic2) | set(train_fin))\n",
    "\n",
    "    train_fin2_new = []\n",
    "    for train in train_fin:\n",
    "        if train not in train_inic2:\n",
    "            train_fin2_new.append(train)\n",
    "        else:\n",
    "            train_fin2_new.append(distintos_2.pop())\n",
    "    \n",
    "    subtrain1 = train_fin_new + train_inic\n",
    "    subtrain2 = train_fin2_new + train_inic2\n",
    "\n",
    "    return creator.Individual(subtrain1), creator.Individual(subtrain2)"
   ]
  },
  {
   "attachments": {},
   "cell_type": "markdown",
   "metadata": {},
   "source": [
    "### Individuos"
   ]
  },
  {
   "cell_type": "code",
   "execution_count": 7,
   "metadata": {},
   "outputs": [],
   "source": [
    "creator.create(\"FitnessMin\", base.Fitness, weights=(-1.0,)) #minimizar el tiempo de trenes\n",
    "creator.create(\"Individual\", list, fitness=creator.FitnessMin)"
   ]
  },
  {
   "attachments": {},
   "cell_type": "markdown",
   "metadata": {},
   "source": [
    "### Configuración para utilizar el algoritmo genético.\n",
    "\n",
    "- Generar una muestra aleatoria de índices en el rango de 0 a len(trenes) \n",
    "\n",
    "- Crear un individuo de la clase creator.Individual utilizando la función previamente registrada \"indices\"\n",
    "\n",
    "- Crear una población de tipo list utilizando la función previamente registrada \"individual\"\n",
    "\n",
    "- Función **_fitness_function_** para evaluar la aptitud (fitness) de un individuo\n",
    "\n",
    "- Función **_mate_** para realizar la recombinación (crossover) de dos individuos durante la etapa de reproducción del algoritmo genético\n",
    "\n",
    "- Función **_mutate_** para realizar la mutación de un individuo durante la etapa de reproducción del algoritmo genético\n",
    "\n",
    "- Selección de los individuos mediante el algoritmo NSGA-II basado en la evaluación de dominancia de Pareto (un individuo es considerado mejor que otro si mejora al menos en uno de los objetivos sin empeorar en ningún otro) y la asignación de rangos\n"
   ]
  },
  {
   "cell_type": "code",
   "execution_count": 8,
   "metadata": {},
   "outputs": [],
   "source": [
    "toolbox = base.Toolbox()\n",
    "\n",
    "toolbox.register(\"indices\", random.sample, range(len(trenes)), len(trenes))\n",
    "\n",
    "toolbox.register(\"individual\", tools.initIterate, creator.Individual, toolbox.indices)\n",
    "toolbox.register(\"population\", tools.initRepeat, list, toolbox.individual)\n",
    "\n",
    "toolbox.register(\"evaluate\", fitness_function)\n",
    "toolbox.register(\"mate\", mate)\n",
    "toolbox.register(\"mutate\", mutate)\n",
    "toolbox.register(\"select\", tools.selNSGA2)"
   ]
  },
  {
   "cell_type": "code",
   "execution_count": 9,
   "metadata": {},
   "outputs": [],
   "source": [
    "pop = toolbox.population(n=50)\n",
    "hof = tools.HallOfFame(1)\n",
    "\n",
    "stats = tools.Statistics(lambda indiv: indiv.fitness.values)\n",
    "stats.register(\"avg\", np.mean)\n",
    "stats.register(\"min\", np.min)\n",
    "stats.register(\"max\", np.max)\n",
    "stats.register(\"std\", np.std)\n"
   ]
  },
  {
   "attachments": {},
   "cell_type": "markdown",
   "metadata": {},
   "source": [
    "### Hall of Fame"
   ]
  },
  {
   "cell_type": "code",
   "execution_count": 10,
   "metadata": {},
   "outputs": [],
   "source": [
    "def main():\n",
    "    NGEN = 30\n",
    "    MU = 50\n",
    "    LAMBDA = 100\n",
    "    CXPB = 0.7\n",
    "    MUTPB = 0.2\n",
    "\n",
    "    pop = toolbox.population(n=MU)\n",
    "    hof = tools.HallOfFame(1)\n",
    "    stats = tools.Statistics(lambda ind: ind.fitness.values)\n",
    "    stats.register(\"avg\", np.mean, axis=0)\n",
    "    stats.register(\"std\", np.std, axis=0)\n",
    "    stats.register(\"min\", np.min, axis=0)\n",
    "    stats.register(\"max\", np.max, axis=0)\n",
    "\n",
    "    pop, logbook = algorithms.eaMuPlusLambda(pop, toolbox, MU, LAMBDA, CXPB, MUTPB, NGEN, stats, halloffame=hof)\n",
    "\n",
    "    return pop, hof, logbook"
   ]
  },
  {
   "cell_type": "code",
   "execution_count": 11,
   "metadata": {},
   "outputs": [
    {
     "name": "stdout",
     "output_type": "stream",
     "text": [
      "gen\tnevals\tavg     \tstd          \tmin   \tmax   \n",
      "0  \t50    \t[259.36]\t[20.50537491]\t[206.]\t[300.]\n",
      "1  \t90    \t[233.14]\t[10.63768772]\t[206.]\t[249.]\n",
      "2  \t86    \t[221.84]\t[5.79434207] \t[206.]\t[230.]\n",
      "3  \t87    \t[215.1] \t[4.60977223] \t[202.]\t[220.]\n",
      "4  \t85    \t[210.44]\t[4.54383098] \t[197.]\t[216.]\n",
      "5  \t91    \t[206.12]\t[3.72902132] \t[197.]\t[212.]\n",
      "6  \t92    \t[202.42]\t[3.74213843] \t[192.]\t[206.]\n",
      "7  \t91    \t[199.74]\t[3.52596086] \t[192.]\t[204.]\n",
      "8  \t91    \t[197.68]\t[2.65661439] \t[192.]\t[201.]\n",
      "9  \t91    \t[195.52]\t[2.07113495] \t[192.]\t[198.]\n",
      "10 \t92    \t[194.52]\t[2.04195984] \t[192.]\t[197.]\n",
      "11 \t93    \t[192.92]\t[1.05527248] \t[192.]\t[195.]\n",
      "12 \t90    \t[192.18]\t[0.38418745] \t[192.]\t[193.]\n",
      "13 \t89    \t[192.]  \t[0.]         \t[192.]\t[192.]\n",
      "14 \t92    \t[192.]  \t[0.]         \t[192.]\t[192.]\n",
      "15 \t89    \t[192.]  \t[0.]         \t[192.]\t[192.]\n",
      "16 \t93    \t[192.]  \t[0.]         \t[192.]\t[192.]\n",
      "17 \t90    \t[192.]  \t[0.]         \t[192.]\t[192.]\n",
      "18 \t90    \t[192.]  \t[0.]         \t[192.]\t[192.]\n",
      "19 \t87    \t[192.]  \t[0.]         \t[192.]\t[192.]\n",
      "20 \t91    \t[192.]  \t[0.]         \t[192.]\t[192.]\n",
      "21 \t88    \t[192.]  \t[0.]         \t[192.]\t[192.]\n",
      "22 \t90    \t[192.]  \t[0.]         \t[192.]\t[192.]\n",
      "23 \t91    \t[192.]  \t[0.]         \t[192.]\t[192.]\n",
      "24 \t89    \t[192.]  \t[0.]         \t[192.]\t[192.]\n",
      "25 \t93    \t[192.]  \t[0.]         \t[192.]\t[192.]\n",
      "26 \t88    \t[192.]  \t[0.]         \t[192.]\t[192.]\n",
      "27 \t86    \t[192.]  \t[0.]         \t[192.]\t[192.]\n",
      "28 \t92    \t[192.]  \t[0.]         \t[192.]\t[192.]\n",
      "29 \t93    \t[192.]  \t[0.]         \t[192.]\t[192.]\n",
      "30 \t92    \t[192.]  \t[0.]         \t[192.]\t[192.]\n"
     ]
    }
   ],
   "source": [
    "pop, hof, logbook = main()"
   ]
  },
  {
   "cell_type": "code",
   "execution_count": 12,
   "metadata": {},
   "outputs": [
    {
     "data": {
      "image/png": "[encoded data removed]",
      "text/plain": [
       "<Figure size 640x480 with 1 Axes>"
      ]
     },
     "metadata": {},
     "output_type": "display_data"
    }
   ],
   "source": [
    "gen, avg, min_, max_ = logbook.select(\"gen\", \"avg\", \"min\", \"max\")\n",
    "plt.plot(gen, avg, label=\"Media\", c = \"darkblue\")\n",
    "plt.plot(gen, max_, label=\"Máximo\", c = \"red\")\n",
    "plt.plot(gen, min_, label=\"Mínimo\", c = \"darkgreen\")\n",
    "\n",
    "plt.xlabel(\"Generación\")\n",
    "plt.ylabel(\"Evaluación\")\n",
    "plt.title(\"Evolución de la evaluación\")\n",
    "plt.legend()\n",
    "plt.show()"
   ]
  },
  {
   "attachments": {},
   "cell_type": "markdown",
   "metadata": {},
   "source": [
    "### Comprobación que no existen repeticiones de trenes"
   ]
  },
  {
   "cell_type": "code",
   "execution_count": 14,
   "metadata": {},
   "outputs": [
    {
     "name": "stdout",
     "output_type": "stream",
     "text": [
      "Configuración ordenada de trenes: [0, 1, 2, 3, 4, 5, 6, 7, 8, 9, 10, 11, 12, 13, 14, 15, 16, 17, 18, 19, 20, 21, 22, 23, 24]\n",
      "Número de elementos distintos: 25\n"
     ]
    }
   ],
   "source": [
    "print(\"Configuración ordenada de trenes:\" , sorted(hof[0]))\n",
    "print(\"Número de elementos distintos:\" ,len(set(hof[0])))"
   ]
  },
  {
   "attachments": {},
   "cell_type": "markdown",
   "metadata": {},
   "source": [
    "### Tiempo que tardaría si los trenes se ejecutaran en paralelo sin esperar"
   ]
  },
  {
   "cell_type": "code",
   "execution_count": 20,
   "metadata": {},
   "outputs": [
    {
     "name": "stdout",
     "output_type": "stream",
     "text": [
      "Tiempo mínimo de descarga del individuo ideal:  218\n",
      "Tiempo calculado por el algoritmo genético:  218.0\n",
      "Configuración de trenes:  [8, 11, 24, 18, 14, 13, 21, 17, 16, 1, 5, 22, 7, 23, 0, 19, 15, 9, 20, 6, 10, 4, 3, 2, 12]\n"
     ]
    }
   ],
   "source": [
    "tiempos_operaciones = {\"op1\": 0, \"op2\": 0, \"op3\": 0}\n",
    "\n",
    "for train in trenes:\n",
    "    tiempos_operaciones[train.op] += train.wagons\n",
    "\n",
    "print(\"Tiempo mínimo de descarga del individuo ideal: \" , max(tiempos_operaciones.values()))\n",
    "print(\"Tiempo calculado por el algoritmo genético: \", hof[0].fitness.values[0])\n",
    "print(\"Configuración de trenes: \", hof[0])"
   ]
  }
 ],
 "metadata": {
  "kernelspec": {
   "display_name": "iacd",
   "language": "python",
   "name": "python3"
  },
  "language_info": {
   "codemirror_mode": {
    "name": "ipython",
    "version": 3
   },
   "file_extension": ".py",
   "mimetype": "text/x-python",
   "name": "python",
   "nbconvert_exporter": "python",
   "pygments_lexer": "ipython3",
   "version": "3.10.9"
  },
  "orig_nbformat": 4
 },
 "nbformat": 4,
 "nbformat_minor": 2
}
